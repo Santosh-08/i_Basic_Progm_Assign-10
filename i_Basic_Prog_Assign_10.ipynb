{
 "cells": [
  {
   "cell_type": "markdown",
   "id": "218f5b53",
   "metadata": {},
   "source": [
    "# Python program to find sum of elements in list"
   ]
  },
  {
   "cell_type": "code",
   "execution_count": 6,
   "id": "1baf9a30",
   "metadata": {},
   "outputs": [
    {
     "name": "stdout",
     "output_type": "stream",
     "text": [
      "Enter a list element by one space 1 1 2 5\n",
      "Sum of all elements in the list =  9\n"
     ]
    }
   ],
   "source": [
    "input_list = input(\"Enter a list element by one space \")\n",
    "listRange  = input_list.split()\n",
    "\n",
    "total = 0\n",
    "\n",
    "for num in listRange:\n",
    "    total += int (num)\n",
    "\n",
    "print(\"Sum of all elements in the list = \",total)"
   ]
  },
  {
   "cell_type": "markdown",
   "id": "698430c6",
   "metadata": {},
   "source": [
    "# Python program to  Multiply all numbers in the list"
   ]
  },
  {
   "cell_type": "code",
   "execution_count": 10,
   "id": "0a5eb90e",
   "metadata": {},
   "outputs": [
    {
     "name": "stdout",
     "output_type": "stream",
     "text": [
      "Enter a list element by one space 2 3 1\n",
      "Multiplication of all elements in the list =  6\n"
     ]
    }
   ],
   "source": [
    "input_list = input(\"Enter a list element by one space \")\n",
    "listRange  = input_list.split()\n",
    "\n",
    "mul = 1\n",
    "\n",
    "for num in listRange:\n",
    "    mul *= int (num)\n",
    "\n",
    "print(\"Multiplication of all elements in the list = \",mul)"
   ]
  },
  {
   "cell_type": "markdown",
   "id": "1065ad58",
   "metadata": {},
   "source": [
    "# Python program to find smallest number in a list"
   ]
  },
  {
   "cell_type": "code",
   "execution_count": 24,
   "id": "f6e77640",
   "metadata": {},
   "outputs": [
    {
     "name": "stdout",
     "output_type": "stream",
     "text": [
      "Smallest number of the list is: 8\n"
     ]
    }
   ],
   "source": [
    "lis = [45, 100, 31, 98, 8]\n",
    "\n",
    "\n",
    "print(\"Smallest number of the list is:\", min(lis))"
   ]
  },
  {
   "cell_type": "markdown",
   "id": "2e99ad68",
   "metadata": {},
   "source": [
    "# Python program to find largest number in a list"
   ]
  },
  {
   "cell_type": "code",
   "execution_count": 26,
   "id": "19a28549",
   "metadata": {},
   "outputs": [
    {
     "name": "stdout",
     "output_type": "stream",
     "text": [
      "Smallest number of the list is: 1198\n"
     ]
    }
   ],
   "source": [
    "lis = [45, 1010, 31, 1198, 818]\n",
    "\n",
    "\n",
    "print(\"Smallest number of the list is:\", max(lis))"
   ]
  },
  {
   "cell_type": "markdown",
   "id": "8dec45aa",
   "metadata": {},
   "source": [
    "# Python program to find second largest number in a list"
   ]
  },
  {
   "cell_type": "code",
   "execution_count": 30,
   "id": "6b1b3768",
   "metadata": {},
   "outputs": [
    {
     "name": "stdout",
     "output_type": "stream",
     "text": [
      "printing the second largest element in the given list :  77101\n"
     ]
    }
   ],
   "source": [
    "list = [101, 1211, 4400, 6220, 77101, 32521, 2225, 6335, 11521, 92531]\n",
    "\n",
    "list.sort()\n",
    "\n",
    "seclarg = list[-2]\n",
    "\n",
    "print(\"printing the second largest element in the given list : \", seclarg)"
   ]
  },
  {
   "cell_type": "markdown",
   "id": "7c2e004f",
   "metadata": {},
   "source": [
    "# Python program to find N largest elements from a list"
   ]
  },
  {
   "cell_type": "code",
   "execution_count": 7,
   "id": "db1d1a87",
   "metadata": {},
   "outputs": [
    {
     "name": "stdout",
     "output_type": "stream",
     "text": [
      "[67, 42]\n"
     ]
    }
   ],
   "source": [
    "x = [1, 3, 7, 21, -90, 67, 42, 12]\n",
    "\n",
    "def max_finder(lst, N, result_lst = list()):\n",
    "    while N > 0:\n",
    "        max_value = max(lst)\n",
    "        result_lst.append(max_value)\n",
    "        lst.remove(max_value)\n",
    "        N-=1\n",
    "    return result_lst\n",
    "\n",
    "print(max_finder(x, 2))"
   ]
  },
  {
   "cell_type": "markdown",
   "id": "22696759",
   "metadata": {},
   "source": [
    "# Python program to print even numbers in a list"
   ]
  },
  {
   "cell_type": "code",
   "execution_count": 10,
   "id": "5656ae8f",
   "metadata": {},
   "outputs": [
    {
     "name": "stdout",
     "output_type": "stream",
     "text": [
      "Even List:  [44, 20, 12, 2, 444]\n"
     ]
    }
   ],
   "source": [
    "numbs = [44, 20, 53, 12, 53, 5, 3, 2,101, 444]\n",
    "\n",
    "even = []\n",
    "\n",
    "for i in numbs:\n",
    "    if(i % 2 == 0):\n",
    "        even.append(i)\n",
    "            \n",
    "print(\"Even List: \",even)"
   ]
  },
  {
   "cell_type": "markdown",
   "id": "39ebb070",
   "metadata": {},
   "source": [
    "# Python program to print odd numbers in a List"
   ]
  },
  {
   "cell_type": "code",
   "execution_count": 11,
   "id": "d5032fc0",
   "metadata": {},
   "outputs": [
    {
     "name": "stdout",
     "output_type": "stream",
     "text": [
      "Odd List:  [53, 53, 5, 3, 101]\n"
     ]
    }
   ],
   "source": [
    "numbs = [44, 20, 53, 12, 53, 5, 3, 2,101, 444]\n",
    "\n",
    "odd = []\n",
    "\n",
    "for i in numbs:\n",
    "    if(i % 2 != 0):\n",
    "        odd.append(i)\n",
    "            \n",
    "print(\"Odd List: \",odd)"
   ]
  },
  {
   "cell_type": "markdown",
   "id": "e64ecc07",
   "metadata": {},
   "source": [
    "# Python program to Remove empty List from List"
   ]
  },
  {
   "cell_type": "code",
   "execution_count": 16,
   "id": "7c8c112b",
   "metadata": {},
   "outputs": [
    {
     "name": "stdout",
     "output_type": "stream",
     "text": [
      "The original list is : [1, [], 2, 3, [], 4, 5, [], [], 9]\n",
      "List after empty list removal : [1, 2, 3, 4, 5, 9]\n"
     ]
    }
   ],
   "source": [
    "List = [1, [], 2, 3, [], 4, 5, [], [], 9]\n",
    "\n",
    "print(\"The original list is : \" +str(List))\n",
    "\n",
    "result = list(filter(None, List))\n",
    "\n",
    "print (\"List after empty list removal : \" + str(result))"
   ]
  },
  {
   "cell_type": "code",
   "execution_count": 20,
   "id": "2ae16432",
   "metadata": {},
   "outputs": [
    {
     "name": "stdout",
     "output_type": "stream",
     "text": [
      "['A', 'B', 'C', 'D']\n"
     ]
    }
   ],
   "source": [
    "if __name__ == '__main__':\n",
    " \n",
    "    l = ['A', 'B', '', 'C', '', 'D']\n",
    "    l = list(filter(len, l))\n",
    "    print(l)    "
   ]
  },
  {
   "cell_type": "markdown",
   "id": "a49ca3c6",
   "metadata": {},
   "source": [
    "# Python program to Cloning or Copying a list"
   ]
  },
  {
   "cell_type": "code",
   "execution_count": 23,
   "id": "63d66c4a",
   "metadata": {},
   "outputs": [
    {
     "name": "stdout",
     "output_type": "stream",
     "text": [
      "Org List:  [1, 2, 3, 4, 5]\n",
      "New List:  [1, 2, 3, 4, 5]\n"
     ]
    }
   ],
   "source": [
    "Orglist = [1, 2, 3, 4, 5]\n",
    "copy_list = Orglist\n",
    "print('Org List: ', Orglist)\n",
    "print('New List: ', copy_list)"
   ]
  },
  {
   "cell_type": "markdown",
   "id": "cfbf429f",
   "metadata": {},
   "source": [
    "# Python program to Count occurrences of an element in a list"
   ]
  },
  {
   "cell_type": "code",
   "execution_count": 26,
   "id": "61c5d421",
   "metadata": {},
   "outputs": [
    {
     "name": "stdout",
     "output_type": "stream",
     "text": [
      "2\n",
      "4\n"
     ]
    }
   ],
   "source": [
    "list=[\"x\", \"x\", 1, 2, 1,1,1]\n",
    "occ1=list.count(\"x\")\n",
    "occ2=list.count(1)\n",
    "print(occ1)\n",
    "print(occ2)"
   ]
  },
  {
   "cell_type": "code",
   "execution_count": null,
   "id": "81bfe9c3",
   "metadata": {},
   "outputs": [],
   "source": []
  }
 ],
 "metadata": {
  "kernelspec": {
   "display_name": "Python 3",
   "language": "python",
   "name": "python3"
  },
  "language_info": {
   "codemirror_mode": {
    "name": "ipython",
    "version": 3
   },
   "file_extension": ".py",
   "mimetype": "text/x-python",
   "name": "python",
   "nbconvert_exporter": "python",
   "pygments_lexer": "ipython3",
   "version": "3.8.8"
  }
 },
 "nbformat": 4,
 "nbformat_minor": 5
}
